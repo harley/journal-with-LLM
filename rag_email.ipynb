{
 "cells": [
  {
   "cell_type": "code",
   "execution_count": null,
   "metadata": {},
   "outputs": [],
   "source": [
    "from dotenv import load_dotenv\n",
    "load_dotenv()\n",
    "\n",
    "from custom_gmail_reader import CustomGmailReader\n",
    "\n",
    "# Instantiate the CustomGmailReader\n",
    "loader = CustomGmailReader(\n",
    "    query=\"from:rw.peterc.org\",\n",
    "    max_results=50,\n",
    "    results_per_page=10,\n",
    "    service=None\n",
    ")\n",
    "\n",
    "# Load the emails\n",
    "documents = loader.load_data()\n",
    "\n",
    "# Print email information\n",
    "print(f\"Number of documents: {len(documents)}\")\n",
    "for i, doc in enumerate(documents[:20]):\n",
    "    print(f\"Document {i+1}:\")\n",
    "    print(f\"To: {doc.metadata.get('to', 'N/A')}\")\n",
    "    print(f\"From: {doc.metadata.get('from', 'N/A')}\")\n",
    "    print(f\"Subject: {doc.metadata.get('subject', 'N/A')}\")\n",
    "    print(f\"Date: {doc.metadata.get('date', 'N/A')}\")\n",
    "    print(f\"Content snippet: {doc.text[:1000]}...\")\n",
    "    print(\"=\" * 50)"
   ]
  },
  {
   "cell_type": "code",
   "execution_count": null,
   "metadata": {},
   "outputs": [],
   "source": [
    "from llama_index.core import VectorStoreIndex\n",
    "from llama_index.core.query_engine import RetrieverQueryEngine\n",
    "from llama_index.core.retrievers import VectorIndexRetriever\n",
    "\n",
    "# Create index\n",
    "index = VectorStoreIndex.from_documents(documents)\n",
    "\n",
    "# Create retriever\n",
    "retriever = VectorIndexRetriever(index=index)\n",
    "\n",
    "# Create query engine\n",
    "query_engine = RetrieverQueryEngine(retriever=retriever)\n",
    "\n",
    "# Example query\n",
    "response = query_engine.query(\"What is the Rails Renaissance about?\")\n",
    "print(response)"
   ]
  },
  {
   "cell_type": "code",
   "execution_count": 8,
   "metadata": {},
   "outputs": [
    {
     "name": "stdout",
     "output_type": "stream",
     "text": [
      "Rails 8\n"
     ]
    }
   ],
   "source": [
    "print(query_engine.query(\"What future Rails version are we expecting at Rails Renaissance?\"))"
   ]
  }
 ],
 "metadata": {
  "kernelspec": {
   "display_name": ".venv",
   "language": "python",
   "name": "python3"
  },
  "language_info": {
   "codemirror_mode": {
    "name": "ipython",
    "version": 3
   },
   "file_extension": ".py",
   "mimetype": "text/x-python",
   "name": "python",
   "nbconvert_exporter": "python",
   "pygments_lexer": "ipython3",
   "version": "3.12.5"
  }
 },
 "nbformat": 4,
 "nbformat_minor": 2
}
