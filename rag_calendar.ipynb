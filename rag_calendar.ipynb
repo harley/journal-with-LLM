{
 "cells": [
  {
   "cell_type": "code",
   "execution_count": null,
   "metadata": {},
   "outputs": [],
   "source": []
  },
  {
   "cell_type": "code",
   "execution_count": 1,
   "metadata": {},
   "outputs": [
    {
     "name": "stdout",
     "output_type": "stream",
     "text": [
      "Number of calendar events added: 3\n",
      "Calendar Events:\n",
      "Event 1:\n",
      "Status: confirmed, Summary: Tech Talk 77 - Chat with Email via RAG, Start time: 2024-09-19T11:00:00+07:00, End time: 2024-09-19T12:00:00+07:00, Organizer: harleyxtra@gmail.com\n",
      "--------------------------------------------------\n",
      "Event 2:\n",
      "Status: confirmed, Summary: Run, Start time: 2024-09-20T06:00:00+07:00, End time: 2024-09-20T08:00:00+07:00, Organizer: harleyxtra@gmail.com\n",
      "--------------------------------------------------\n",
      "Event 3:\n",
      "Status: confirmed, Summary: Pick mom from airport, Start time: 2024-09-20T09:00:00+07:00, End time: 2024-09-20T10:00:00+07:00, Organizer: harleyxtra@gmail.com\n",
      "--------------------------------------------------\n"
     ]
    }
   ],
   "source": [
    "from custom_calendar_reader import GoogleCalendarReader\n",
    "import datetime\n",
    "\n",
    "# Instantiate the GoogleCalendarReader\n",
    "calendar_reader = GoogleCalendarReader()\n",
    "\n",
    "# Get the start of the current week\n",
    "today = datetime.date.today()\n",
    "start_of_week = today - datetime.timedelta(days=today.weekday())\n",
    "\n",
    "# Load this week's events\n",
    "calendar_documents = calendar_reader.load_data(\n",
    "    number_of_results=100,\n",
    "    start_date=start_of_week\n",
    ")\n",
    "\n",
    "print(f\"Number of calendar events added: {len(calendar_documents)}\")\n",
    "\n",
    "# Print calendar events for debugging\n",
    "print(\"Calendar Events:\")\n",
    "for i, event in enumerate(calendar_documents, 1):\n",
    "    print(f\"Event {i}:\")\n",
    "    print(event.text)\n",
    "    print(\"-\" * 50)\n"
   ]
  },
  {
   "cell_type": "code",
   "execution_count": 4,
   "metadata": {},
   "outputs": [
    {
     "name": "stdout",
     "output_type": "stream",
     "text": [
      "You can write about the upcoming events you have scheduled, such as the tech talk and picking up your mom from the airport. Reflect on how you feel about these events and any preparations you need to make.\n"
     ]
    }
   ],
   "source": [
    "from llama_index.core import VectorStoreIndex\n",
    "from llama_index.core.query_engine import RetrieverQueryEngine\n",
    "from llama_index.core.retrievers import VectorIndexRetriever\n",
    "\n",
    "# Create index\n",
    "index = VectorStoreIndex.from_documents(calendar_documents)\n",
    "\n",
    "# Create retriever\n",
    "retriever = VectorIndexRetriever(index=index)\n",
    "\n",
    "# Create query engine\n",
    "query_engine = RetrieverQueryEngine(retriever=retriever)\n",
    "\n",
    "# Example query\n",
    "response = query_engine.query(\"What should I write about in my journal today?\")\n",
    "print(response)"
   ]
  }
 ],
 "metadata": {
  "kernelspec": {
   "display_name": ".venv",
   "language": "python",
   "name": "python3"
  },
  "language_info": {
   "codemirror_mode": {
    "name": "ipython",
    "version": 3
   },
   "file_extension": ".py",
   "mimetype": "text/x-python",
   "name": "python",
   "nbconvert_exporter": "python",
   "pygments_lexer": "ipython3",
   "version": "3.12.5"
  }
 },
 "nbformat": 4,
 "nbformat_minor": 2
}
